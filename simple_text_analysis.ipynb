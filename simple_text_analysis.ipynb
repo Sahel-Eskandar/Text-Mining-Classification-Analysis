{
  "nbformat": 4,
  "nbformat_minor": 0,
  "metadata": {
    "colab": {
      "provenance": [],
      "authorship_tag": "ABX9TyOvGkfeIJL2ICvoeHzkMx0p",
      "include_colab_link": true
    },
    "kernelspec": {
      "name": "python3",
      "display_name": "Python 3"
    },
    "language_info": {
      "name": "python"
    }
  },
  "cells": [
    {
      "cell_type": "markdown",
      "metadata": {
        "id": "view-in-github",
        "colab_type": "text"
      },
      "source": [
        "<a href=\"https://colab.research.google.com/github/Sahel-Eskandar/Text-Mining-Classification-Analysis/blob/main/simple_text_analysis.ipynb\" target=\"_parent\"><img src=\"https://colab.research.google.com/assets/colab-badge.svg\" alt=\"Open In Colab\"/></a>"
      ]
    },
    {
      "cell_type": "code",
      "source": [
        "%%capture\n",
        "import nltk\n",
        "from nltk.tokenize import word_tokenize\n",
        "from nltk.corpus import stopwords\n",
        "from textblob import TextBlob\n",
        "nltk.download('punkt')\n",
        "nltk.download('stopwords')\n",
        "nltk.download('gutenberg')\n",
        "nltk.download('genesis')\n",
        "nltk.download('inaugural')\n",
        "nltk.download('nps_chat')\n",
        "nltk.download('webtext')\n",
        "nltk.download('treebank')\n",
        "nltk.download('udhr')\n",
        "nltk.download('wordnet')\n",
        "nltk.download('omw-1.4')\n",
        "nltk.download('tagsets')\n",
        "nltk.download('averaged_perceptron_tagger')\n",
        "from nltk.book import *"
      ],
      "metadata": {
        "id": "KC8N8nEy6q00"
      },
      "execution_count": 1,
      "outputs": []
    },
    {
      "cell_type": "code",
      "source": [
        "text7"
      ],
      "metadata": {
        "colab": {
          "base_uri": "https://localhost:8080/"
        },
        "id": "7E0zLLn87CZZ",
        "outputId": "a7f18ee0-3402-414b-d6d8-3aa34ca9fe9e"
      },
      "execution_count": 24,
      "outputs": [
        {
          "output_type": "execute_result",
          "data": {
            "text/plain": [
              "<Text: Wall Street Journal>"
            ]
          },
          "metadata": {},
          "execution_count": 24
        }
      ]
    },
    {
      "cell_type": "code",
      "source": [
        "#Wen using nltk books, The class has its tokens and vocab and more\n",
        "# Use Token of the imported text7 from Wall Street Journal \n",
        "tokens = text7.tokens"
      ],
      "metadata": {
        "id": "rv6IrIHf7U1U"
      },
      "execution_count": 25,
      "outputs": []
    },
    {
      "cell_type": "code",
      "source": [
        "import regex as re\n",
        "dist = FreqDist(text7)\n",
        "sorted_dict = dict(sorted(dist.items(), key=lambda x: x[1], reverse= True))\n",
        "mostfreqwords = [w for w in sorted_dict.items() if  \n",
        "                 len(re.findall(r'\\W',w[0])) == 0 \n",
        "                 and len(w[0]) > 4 and w[1] > 100]\n",
        "mostfreqwords"
      ],
      "metadata": {
        "colab": {
          "base_uri": "https://localhost:8080/"
        },
        "id": "lQ9SkQNj-ZGw",
        "outputId": "baed28a2-dfcf-44de-c284-4b95dcfc1f77"
      },
      "execution_count": 26,
      "outputs": [
        {
          "output_type": "execute_result",
          "data": {
            "text/plain": [
              "[('million', 383),\n",
              " ('company', 260),\n",
              " ('which', 225),\n",
              " ('would', 209),\n",
              " ('about', 206),\n",
              " ('their', 181),\n",
              " ('market', 176),\n",
              " ('trading', 162),\n",
              " ('billion', 159),\n",
              " ('stock', 136),\n",
              " ('other', 134),\n",
              " ('president', 133),\n",
              " ('program', 127),\n",
              " ('could', 120),\n",
              " ('share', 119),\n",
              " ('because', 118),\n",
              " ('years', 115),\n",
              " ('shares', 114)]"
            ]
          },
          "metadata": {},
          "execution_count": 26
        }
      ]
    },
    {
      "cell_type": "code",
      "source": [
        "# Even you can generate a random text using a trigram language model with 500 word lenght\n",
        "text = text7.generate(500)"
      ],
      "metadata": {
        "colab": {
          "base_uri": "https://localhost:8080/"
        },
        "id": "Bap8YTcY8xb4",
        "outputId": "f451acca-605f-4035-d0e1-64fc16af1c30"
      },
      "execution_count": 21,
      "outputs": [
        {
          "output_type": "stream",
          "name": "stdout",
          "text": [
            "has *-2 to close at 2645.90 in moderate trading , a large addition or\n",
            "subtraction to a new public spirit for school betterment . *-1 to beat\n",
            "the tests themselves that critics say 0 Columbia 's junk problems\n",
            "*T*-1 . Sea Containers is still : ` * Buy , ' '' he said *T*-2 Mr.\n",
            "Guffey , `` and I 'm afraid 0 I reached *T*-1 . After the first 0 it\n",
            "believes 0 the Big Board 's leadership -- over the next 12 months --\n",
            "vs. a `` reckless course of action '' for President Bush must decide\n",
            "whether * to produce consistent profits has wedded them to Congress ,\n",
            "have commanded three-digit price tags for several health and safety of\n",
            "our employees . '' the debt ceiling is ensnarled *-11 in the 1988\n",
            "drought . Dr. Mossman explained 0 *T*-2 . cigarettes , stopped this\n",
            "year , the October survey polled members on imports . *U* ; Devon\n",
            "Nilson Dahl , Fountain Valley , announced an agreement *ICH*-1 with\n",
            "three expected results after `` reforms '' are implemented *-1 : A\n",
            "former member of the Bank for Foreign Economic Affairs was approved\n",
            "*-1 by the agency *-3 to sell most of its assets . are down around 40\n",
            "% this fall despite the bald-faced nature of the bombers rolled out in\n",
            "favor of passage . '' where * noted *-3 *T*-4 , when Mr. Neuberger\n",
            "discovered the crib notes . for the five previous months of talks with\n",
            "top-level Chinese officials . the Orange County Register were in a\n",
            "pattern of sluggish growth . , which *T*-1 precedes the full floor .\n",
            "veteran of several thousand DES plaintiffs could n't be able *-2 to\n",
            "check one of those recommendations *T*-2 . *-1 to acquire a further 25\n",
            "% of the 1987 global market crash . disorders , skin problems , but in\n",
            "Consequence of Appropriations made * until Dec. 31 , 1987 . But\n",
            "although he did n't specify *T*-1 . any new securities , * prosecuting\n",
            "Mrs. Yeargin declined . '' this commercial , after all six members of\n",
            "Georgia-Pacific Corp. takeover bid *ICH*-1 from investor Harold\n",
            "Simmons and NL , *-1 meant *-2 to unveil a surprise announcement ,\n",
            "representatives of the past day and were looking for a city job *T*-3\n",
            ". a drawing of Pinocchio and a 15 % . among the few medical\n",
            "institutions conducting privately funded tissue-transplant research or\n",
            "federally funded fetal-tissue research that *T*-111 does n't act by\n",
            "then . Stork Diaper Services , Springfield , Mass. *U* a share , down\n",
            "from 27 % in October . , some workers have n't clarified what those\n",
            "might be broken up *-1 , a `` humble , uncomplaining , obedient soul ,\n",
            "'' he added 0 *T*-1 to log a decline in interest rates eventually will\n",
            "boost spending on single-family homes , families and income . notably\n",
            "Salomon Inc. and Bumkins International , a statement from Honduras ,\n",
            "said 0 the Big\n"
          ]
        }
      ]
    },
    {
      "cell_type": "code",
      "source": [
        "# Open the text file and read the file and save it as text\n",
        "with open('moby.txt', 'r') as f:\n",
        "    text = f.read()"
      ],
      "metadata": {
        "id": "e2shQaDtfOo7"
      },
      "execution_count": 40,
      "outputs": []
    },
    {
      "cell_type": "code",
      "source": [
        "text = text[:9999]"
      ],
      "metadata": {
        "id": "UDqvOiht_-rp"
      },
      "execution_count": 41,
      "outputs": []
    },
    {
      "cell_type": "code",
      "source": [
        "# Tokenize the text data \n",
        "tokens = word_tokenize(text)\n",
        "\n",
        "# Remove stop words\n",
        "stop_words = set(stopwords.words('english'))\n",
        "filtered_tokens = [word for word in tokens if not word in stop_words]\n",
        "\n",
        "# Perform stemming or lemmatization\n",
        "from nltk.stem import PorterStemmer\n",
        "stemmer = PorterStemmer()\n",
        "stemmed_tokens = [stemmer.stem(word) for word in filtered_tokens]\n",
        "\n",
        "# Lowercase the tokens\n",
        "lowercase_tokens = [word.lower() for word in stemmed_tokens]\n"
      ],
      "metadata": {
        "id": "OQRE1glHfVCn"
      },
      "execution_count": 42,
      "outputs": []
    },
    {
      "cell_type": "code",
      "source": [
        "# Perform sentiment analysis\n",
        "blob = TextBlob(text)\n",
        "polarity = blob.sentiment.polarity\n",
        "subjectivity = blob.sentiment.subjectivity\n",
        "print('Sentiment Polarity:', polarity)\n",
        "print('Sentiment Subjectivity:', subjectivity)\n",
        "\n",
        "# Perform topic modeling\n",
        "from gensim import corpora, models\n",
        "# Create a dictionary and corpus\n",
        "dictionary = corpora.Dictionary([lowercase_tokens])\n",
        "corpus = [dictionary.doc2bow(lowercase_tokens)]\n",
        "# Train an LDA model with 10 passes\n",
        "lda_model = models.LdaModel(corpus, num_topics=2, id2word=dictionary, passes=10)\n",
        "# Print the top words in each topic\n",
        "topics = lda_model.print_topics(num_words=5)\n",
        "for topic in topics:\n",
        "    print(topic)\n",
        "\n",
        "# Perform entity extraction\n",
        "import spacy\n",
        "nlp = spacy.load('en_core_web_sm')\n",
        "doc = nlp(text)\n",
        "for entity in doc.ents:\n",
        "    print(entity.text, entity.label_)"
      ],
      "metadata": {
        "colab": {
          "base_uri": "https://localhost:8080/"
        },
        "id": "iDLWjE-BfXKt",
        "outputId": "d95d8cc6-91ec-4b7d-e895-0720240527de"
      },
      "execution_count": 43,
      "outputs": [
        {
          "output_type": "stream",
          "name": "stdout",
          "text": [
            "Sentiment Polarity: 0.17577064158996933\n",
            "Sentiment Subjectivity: 0.49675270108043196\n",
            "(0, '0.003*\".\" + 0.003*\",\" + 0.002*\"--\" + 0.002*\"``\" + 0.002*\"\\'\\'\"')\n",
            "(1, '0.072*\",\" + 0.069*\".\" + 0.025*\"\\'\\'\" + 0.025*\"--\" + 0.020*\"``\"')\n",
            "Moby Dick PERSON\n",
            "Herman Melville PERSON\n",
            "Grammar School ORG\n",
            "Sw ORG\n",
            "Dan PERSON\n",
            "Dan PERSON\n",
            "HVALT ORG\n",
            "WHALE ORG\n",
            "Ger GPE\n",
            "WALLEN PERSON\n",
            "A.S. WALW-IAN ORG\n",
            "--RICHARDSON'S PERSON\n",
            "KETOS ORG\n",
            "GREEK NORP\n",
            "CETUS ORG\n",
            "LATIN PRODUCT\n",
            "WHOEL ORG\n",
            "HVALT ORG\n",
            "WAL ORG\n",
            "WHALE ORG\n",
            "WHALE ORG\n",
            "ENGLISH FAC\n",
            "FRENCH NORP\n",
            "PEKEE-NUEE-NUEE PRODUCT\n",
            "FEGEE ORG\n",
            "PEKEE-NUEE-NUEE PRODUCT\n",
            "Vaticans NORP\n",
            "Leviathan GPE\n",
            "a Sub-Sub ORG\n",
            "Thou PERSON\n",
            "one CARDINAL\n",
            "Hampton Court ORG\n",
            "seven CARDINAL\n",
            "Gabriel PERSON\n",
            "Michael PERSON\n",
            "Raphael ORG\n",
            "--GENESIS GPE\n",
            "Leviathan maketh WORK_OF_ART\n",
            "Now the Lord WORK_OF_ART\n",
            "Jonah GPE\n",
            "Leviathan GPE\n",
            "that day DATE\n",
            "Leviathan PERSON\n",
            "Leviathan GPE\n",
            "--HOLLAND'S WORK_OF_ART\n",
            "Indian Sea LOC\n",
            "Whales PERSON\n",
            "Whirlpooles PERSON\n",
            "Balaene PERSON\n",
            "four acres QUANTITY\n",
            "--HOLLAND'S WORK_OF_ART\n",
            "two days DATE\n",
            "Whales PERSON\n",
            "THE TRUE WORK_OF_ART\n",
            "forty-eight CARDINAL\n",
            "some fifty yards QUANTITY\n",
            "one CARDINAL\n",
            "six CARDINAL\n",
            "sixty CARDINAL\n",
            "two days DATE\n",
            "--OTHER PERSON\n",
            "890 CARDINAL\n",
            "Nick PERSON\n",
            "Leviathan PERSON\n",
            "Job PERSON\n",
            "two CARDINAL\n",
            "ANNALS ORG\n",
            "The great Leviathan WORK_OF_ART\n",
            "one CARDINAL\n",
            "--IBID ORG\n",
            "thro PERSON\n",
            "FAERIE QUEEN ORG\n",
            "WILLIAM ORG\n",
            "thirty years DATE\n",
            "Nescio PERSON\n",
            "HIS V. E.\n",
            "\n",
            " PERSON\n",
            "Like Spencer's Talus WORK_OF_ART\n",
            "Leviathan GPE\n",
            "Commonwealth ORG\n",
            "Latin NORP\n",
            "Civitas ORG\n",
            "Silly Mansoul WORK_OF_ART\n",
            "Leviathan GPE\n",
            "Created ORG\n",
            "Leviathan GPE\n",
            "Hugest LOC\n",
            "Leviathan GPE\n",
            "--DRYDEN PERSON\n",
            "twelve or thirteen feet QUANTITY\n",
            "EDGE ORG\n",
            "PURCHAS ORG\n",
            "T. HERBERT'S PERSON\n",
            "VOYAGES PRODUCT\n",
            "ASIA LOC\n",
            "AFRICA LOC\n",
            "SIXTH ORDINAL\n",
            "N.E. PERSON\n",
            "Jonas GPE\n",
            "first ORDINAL\n",
            "Shetland GPE\n",
            "One CARDINAL\n",
            "Spitzbergen LOC\n",
            "1652 DATE\n",
            "one CARDINAL\n",
            "eighty feet QUANTITY\n",
            "500 CARDINAL\n",
            "Pitferren GPE\n",
            "KINROSS GPE\n",
            "Sperma ORG\n",
            "--RICHARD STRAFFORD'S PERSON\n",
            "PHIL ORG\n",
            "A.D. GPE\n",
            "1668 DATE\n",
            "Whales in the sea God's voice obey WORK_OF_ART\n",
            "--N. E. PRIMER PERSON\n",
            "a hundred to one CARDINAL\n",
            "GLOBE ORG\n",
            "A.D. GPE\n",
            "1729 DATE\n",
            "--ULLOA'S SOUTH AMERICA WORK_OF_ART\n",
            "fifty CARDINAL\n",
            "seven-fold CARDINAL\n"
          ]
        }
      ]
    },
    {
      "cell_type": "code",
      "source": [],
      "metadata": {
        "id": "KxQIg6osf5F0"
      },
      "execution_count": null,
      "outputs": []
    }
  ]
}