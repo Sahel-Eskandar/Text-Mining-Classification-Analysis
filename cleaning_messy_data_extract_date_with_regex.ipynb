{
  "cells": [
    {
      "cell_type": "markdown",
      "metadata": {
        "id": "view-in-github",
        "colab_type": "text"
      },
      "source": [
        "<a href=\"https://colab.research.google.com/github/Sahel-Eskandar/Text-Classification-Sentimental-Analysis/blob/main/cleaning_messy_data_extract_date_with_regex.ipynb\" target=\"_parent\"><img src=\"https://colab.research.google.com/assets/colab-badge.svg\" alt=\"Open In Colab\"/></a>"
      ]
    },
    {
      "cell_type": "markdown",
      "metadata": {
        "id": "_sM6kR0zlgBL"
      },
      "source": [
        "I'll be working with messy medical data and using regex to extract relevant infromation from the data. \n",
        "\n",
        "Each line of the `dates.txt` file corresponds to a medical note. Each note has a date that needs to be extracted, but each date is encoded in one of many formats.\n",
        "\n",
        "The goal of this assignment is to correctly identify all of the different date variants encoded in this dataset and to properly normalize and sort the dates. \n",
        "\n",
        "Here is a list of some of the variants you might encounter in this dataset:\n",
        "* 04/20/2009; 04/20/09; 4/20/09; 4/3/09\n",
        "* Mar-20-2009; Mar 20, 2009; March 20, 2009;  Mar. 20, 2009; Mar 20 2009;\n",
        "* 20 Mar 2009; 20 March 2009; 20 Mar. 2009; 20 March, 2009\n",
        "* Mar 20th, 2009; Mar 21st, 2009; Mar 22nd, 2009\n",
        "* Feb 2009; Sep 2009; Oct 2010\n",
        "* 6/2008; 12/2009\n",
        "* 2009; 2010\n",
        "\n",
        "Once you have extracted these date patterns from the text, the next step is to sort them in ascending chronological order accoring to the following rules:\n",
        "* Assume all dates in xx/xx/xx format are mm/dd/yy\n",
        "* Assume all dates where year is encoded in only two digits are years from the 1900's (e.g. 1/5/89 is January 5th, 1989)\n",
        "* If the day is missing (e.g. 9/2009), assume it is the first day of the month (e.g. September 1, 2009).\n",
        "* If the month is missing (e.g. 2010), assume it is the first of January of that year (e.g. January 1, 2010).\n",
        "* Watch out for potential typos as this is a raw, real-life derived dataset.\n",
        "\n",
        "With these rules in mind, find the correct date in each note and return a pandas Series in chronological order of the original Series' indices.\n",
        "\n",
        "For example if the original series was this:\n",
        "\n",
        "    0    1999\n",
        "    1    2010\n",
        "    2    1978\n",
        "    3    2015\n",
        "    4    1985\n",
        "\n",
        "Your function should return this:\n",
        "\n",
        "    0    2\n",
        "    1    4\n",
        "    2    0\n",
        "    3    1\n",
        "    4    3\n",
        "\n",
        "Your score will be calculated using [Kendall's tau](https://en.wikipedia.org/wiki/Kendall_rank_correlation_coefficient), a correlation measure for ordinal data.\n",
        "\n",
        "*This function should return a Series of length 500 and dtype int.*"
      ]
    },
    {
      "cell_type": "code",
      "source": [
        "from google.colab import drive\n",
        "drive.mount('/content/drive')"
      ],
      "metadata": {
        "colab": {
          "base_uri": "https://localhost:8080/"
        },
        "id": "FVhImKBHmGdy",
        "outputId": "bbda08e0-1c6c-426e-bb59-e70aa6034352"
      },
      "execution_count": 1,
      "outputs": [
        {
          "output_type": "stream",
          "name": "stdout",
          "text": [
            "Mounted at /content/drive\n"
          ]
        }
      ]
    },
    {
      "cell_type": "code",
      "source": [
        "import pandas as pd\n",
        "import regex as re\n",
        "doc = []\n",
        "with open('/content/drive/MyDrive/Coursera/course4/assignments/course4_assignment1/assets/dates.txt') as file:\n",
        "    for line in file:\n",
        "        doc.append(line)\n",
        "\n",
        "df = pd.Series(doc)\n",
        "\n",
        "df_cleaned = pd.DataFrame(df,columns=['dates']) "
      ],
      "metadata": {
        "id": "x9fO0IheBhOw"
      },
      "execution_count": 2,
      "outputs": []
    },
    {
      "cell_type": "code",
      "execution_count": 27,
      "metadata": {
        "id": "xM4fVZYnlgBN"
      },
      "outputs": [],
      "source": [
        "def date_sorter():\n",
        "    doc = []\n",
        "    with open('/content/drive/MyDrive/Coursera/course4/assignments/course4_assignment1/assets/dates.txt') as file:\n",
        "      for line in file:\n",
        "        doc.append(line)\n",
        "    df = pd.Series(doc)\n",
        "    # Your code here\n",
        "    df_cleaned = pd.DataFrame(df,columns=['dates']) \n",
        "    # extract dates from original dataframe and saved into 3 new cols, incl a) any digit of 'days' b) any digit of 'month' and c) any digit with 4 repetitons of 'year'\n",
        "    # e.g., 04/20/2009\n",
        "    pat1 = r'(?P<origin>(?P<month>\\d?\\d)[/|-](?P<day>\\d?\\d)[/|-](?P<year>\\d{4}))'\n",
        "    clean_date = df.str.extractall(pat1)\n",
        "    messay_index = ~df.index.isin([x[0] for x in clean_date.index])\n",
        "\n",
        "    # extract and append a) any digit of 'month' b) days e.g., 11/29 and c) two digit of 'year' e.g., 89/90 \n",
        "    # e.g., 6/2008; 12/2009\n",
        "    pat2 = r'(?P<origin>(?P<month>\\d?\\d)[/|-](?P<day>([0-2]?[0-9])|([3][01]))[/|-](?P<year>\\d{2}))'\n",
        "    clean_date = pd.concat([clean_date,df[messay_index].str.extractall(pat2)])\n",
        "    messay_index = ~df.index.isin([x[0] for x in clean_date.index])\n",
        "\n",
        "    # extract and append a) any digit of 'day' b) at least 3 characters of 'month' e.g., JAN/feb and b) any digit with 4 repetitons of 'year'\n",
        "    # e.g., 20 Mar 2009\n",
        "    pat3 = r'(?P<origin>(?P<day>\\d?\\d) ?(?P<month>[a-zA-Z]{3,})\\.?,? (?P<year>\\d{4}))'\n",
        "    \n",
        "    clean_date = pd.concat([clean_date,df[messay_index].str.extractall(pat3)])\n",
        "    messay_index = ~df.index.isin([x[0] for x in clean_date.index])\n",
        "\n",
        "    # extract and append a) at least 3 characters of 'month' e.g., JAN/feb b) any dight of 'day' plus 'th/nd/st' and c) any digit with 4 repetitons of 'year'\n",
        "    # Mar 20th, 2009\n",
        "    pat4 = r'(?P<origin>(?P<month>[a-zA-Z]{3,})\\.?-? ?(?P<day>\\d\\d?)(th|nd|st)?,?-? ?(?P<year>\\d{4}))'\n",
        "    clean_date = pd.concat([clean_date,df[messay_index].str.extractall(pat4)])\n",
        "    messay_index = ~df.index.isin([x[0] for x in clean_date.index])\n",
        "\n",
        "    del clean_date[3]\n",
        "    del clean_date[4]\n",
        "    \n",
        "    # if the day is missing (e.g. 9/2009), assume it is the first day of the month (e.g. September 1, 2009)\n",
        "    pat5 = r'(?P<origin>(?P<month>[A-Z][a-z]{2,}),?\\.? (?P<year>\\d{4}))'\n",
        "    dates_without_day = df[messay_index].str.extractall(pat5)\n",
        "\n",
        "    pat6 = r'(?P<origin>(?P<month>\\d\\d?)/(?P<year>\\d{4}))'\n",
        "    dates_without_day =  pd.concat([dates_without_day, df[messay_index].str.extractall(pat6)])\n",
        "    dates_without_day['day'] = 1\n",
        "    clean_date =  pd.concat([clean_date, dates_without_day])\n",
        "    messay_index = ~df.index.isin([x[0] for x in clean_date.index])\n",
        "\n",
        "    # Only year\n",
        "    pat7 = r'(?P<origin>(?P<year>\\d{4}))'\n",
        "    dates_only_year = df[messay_index].str.extractall(pat7)\n",
        "    dates_only_year['day'] = 1\n",
        "    dates_only_year['month'] = 1\n",
        "    clean_date = pd.concat([clean_date,dates_only_year])\n",
        "    messay_index = ~df.index.isin([x[0] for x in clean_date.index])\n",
        "\n",
        "    # normalized year\n",
        "    clean_date['year'] = clean_date['year'].apply(lambda x: '19' + x if len(x) == 2 else x)\n",
        "    clean_date['year'] = clean_date['year'].apply(lambda x: str(x))\n",
        "\n",
        "    # normalized month\n",
        "    clean_date['month'] = clean_date['month'].apply(lambda x: x[1:] if type(x) is str and x.startswith('0') else x)\n",
        "    month_dict = dict({'September': 9, 'Mar': 3, 'November': 11, 'Jul': 7, 'January': 1, 'December': 12,\n",
        "                       'Feb': 2, 'May': 5, 'Aug': 8, 'Jun': 6, 'Sep': 9, 'Oct': 10, 'June': 6, 'March': 3,\n",
        "                       'February': 2, 'Dec': 12, 'Apr': 4, 'Jan': 1, 'Janaury': 1,'August': 8, 'October': 10,\n",
        "                       'July': 7, 'Since': 1, 'Nov': 11, 'April': 4, 'Decemeber': 12, 'Age': 1})\n",
        "    clean_date.replace({\"month\": month_dict}, inplace=True)\n",
        "    clean_date['month'] = clean_date['month'].apply(lambda x: str(x))\n",
        "\n",
        "    # Day\n",
        "    clean_date['day'] = clean_date['day'].apply(lambda x: str(x))\n",
        "\n",
        "    # Cleaned date\n",
        "    clean_date['date'] = clean_date['month'] + '/' + clean_date['day'] + '/' + clean_date['year']\n",
        "    clean_date['index'] = clean_date['date'].droplevel('match').index\n",
        "    clean_date['date'] = pd.to_datetime(clean_date['date'])\n",
        "    return pd.Series(list(clean_date.sort_values([\"date\", \"index\"])['index'].values))"
      ]
    },
    {
      "cell_type": "code",
      "source": [
        "%%time\n",
        "date_sorter()"
      ],
      "metadata": {
        "colab": {
          "base_uri": "https://localhost:8080/"
        },
        "id": "8emTnGWhHl4q",
        "outputId": "ca782ea5-88c1-4199-bb4a-ebfad2736a85"
      },
      "execution_count": 28,
      "outputs": [
        {
          "output_type": "stream",
          "name": "stdout",
          "text": [
            "CPU times: user 74.9 ms, sys: 3.67 ms, total: 78.5 ms\n",
            "Wall time: 81.1 ms\n"
          ]
        },
        {
          "output_type": "execute_result",
          "data": {
            "text/plain": [
              "0        9\n",
              "1       84\n",
              "2        2\n",
              "3       53\n",
              "4       28\n",
              "      ... \n",
              "495    427\n",
              "496    141\n",
              "497    186\n",
              "498    161\n",
              "499    413\n",
              "Length: 500, dtype: int64"
            ]
          },
          "metadata": {},
          "execution_count": 28
        }
      ]
    },
    {
      "cell_type": "code",
      "source": [
        "r1= r'(\\d?\\d[-|/]\\d?\\d[/|-]\\d\\d\\d\\d)' \n",
        "r2= r'(\\d?\\d[-|/]\\d?\\d[/|-]\\d\\d)'\n",
        "r4= r'([A-Z][a-z]+\\W?\\s?\\d\\d\\D?\\D?\\W?\\s\\d\\d+)'\n",
        "r5= r'([A-Z][a-z]+W?-?\\d\\d\\D?\\D?\\W?\\s\\d\\d+)'\n",
        "r6= r'(\\d\\d\\s[A-Za-z]+\\s?\\d\\d\\d\\d)'\n",
        "r7= r'([A-Z][a-z]+\\W?\\s\\d\\d\\d\\d)'\n",
        "r8= r'(\\d?\\d[/|-]\\d\\d\\d\\d)'\n",
        "r9= r'(\\d\\d\\d\\d)'\n",
        "regexprs=[r1,r2,r4,r5,r6,r7,r8,r9]\n",
        "doc = []\n",
        "with open('/content/drive/MyDrive/Coursera/course4/assignments/course4_assignment1/assets/dates.txt') as file:\n",
        "      for line in file:\n",
        "        doc.append(line)\n",
        "df = pd.Series(doc)\n",
        "df3 = pd.DataFrame(df,columns=['dates']) \n",
        "\n",
        "def date_sorter1():\n",
        "    for i in range(500):\n",
        "        for regex in regexprs:\n",
        "            a=re.findall(regex,df3.loc[i,'dates'])\n",
        "            if len(a)>0:\n",
        "                if regex == r2:\n",
        "                  a[0] = a[0][:-2]+'19'+a[0][-2:]\n",
        "                if regex == r8:\n",
        "                  a[0] = a[0][:-4]+'01/'+a[0][-4:]\n",
        "                if regex == r9:\n",
        "                  a[0] = '01/01/'+a[0]\n",
        "                try:\n",
        "                  #print(i,regex,a, pd.Timestamp(a[0]))\n",
        "                  df3.loc[i,'Extracted_date']= pd.Timestamp(a[0])\n",
        "                except:\n",
        "                  df3.loc[i,'Extracted_date']=pd.Timestamp(a[0].split()[-1])\n",
        "                break\n",
        "            else:\n",
        "                continue\n",
        "  \n",
        "    return pd.Series(df3[\"Extracted_date\"].reset_index(drop=False).sort_values([\"Extracted_date\", \"index\"]).index)"
      ],
      "metadata": {
        "id": "U8VVh0ts02mz"
      },
      "execution_count": 44,
      "outputs": []
    },
    {
      "cell_type": "code",
      "source": [
        "%%time\n",
        "date_sorter1()"
      ],
      "metadata": {
        "colab": {
          "base_uri": "https://localhost:8080/"
        },
        "id": "wKSSLyt_k0E2",
        "outputId": "de736e27-b39f-41e1-d27b-5a20ef7e606b"
      },
      "execution_count": 45,
      "outputs": [
        {
          "output_type": "stream",
          "name": "stdout",
          "text": [
            "CPU times: user 150 ms, sys: 708 µs, total: 151 ms\n",
            "Wall time: 155 ms\n"
          ]
        },
        {
          "output_type": "execute_result",
          "data": {
            "text/plain": [
              "0        9\n",
              "1       84\n",
              "2        2\n",
              "3       53\n",
              "4       28\n",
              "      ... \n",
              "495    427\n",
              "496    141\n",
              "497    186\n",
              "498    161\n",
              "499    413\n",
              "Length: 500, dtype: int64"
            ]
          },
          "metadata": {},
          "execution_count": 45
        }
      ]
    },
    {
      "cell_type": "code",
      "source": [
        "df[date_sorter2() != date_sorter1()]"
      ],
      "metadata": {
        "colab": {
          "base_uri": "https://localhost:8080/"
        },
        "id": "s1_gn-2_VKzg",
        "outputId": "6fe2d5c0-4f29-4384-a794-c117a5f8e297"
      },
      "execution_count": 43,
      "outputs": [
        {
          "output_type": "execute_result",
          "data": {
            "text/plain": [
              "81    . Wile taking additional history, pt endorsed ...\n",
              "82    Death of mother; 7/07/1974 Meaningful activiti...\n",
              "83    09/14/2000 CPT Code: 90792: With medical servi...\n",
              "84          5/18/71 Total time of visit (in minutes):\\n\n",
              "85    8/09/1981 Communication with referring physici...\n",
              "86       6/05/93 CPT Code: 90791: No medical services\\n\n",
              "87    )Dilantin (PHENYTOIN) 100 MG CAPSULE Take 2 Ca...\n",
              "88            12/8/82 Audit C=3Audit C Score Current:\\n\n",
              "89       8/26/89 CPT Code: 90791: No medical services\\n\n",
              "90      10/13/95 CPT Code: 90791: No medical services\\n\n",
              "91    4/19/91 Communication with referring physician...\n",
              "92    .APS - Psychiatry consult paged/requested in p...\n",
              "93    9/20/76 CPT Code: 90801 - Psychiatric Diagnosi...\n",
              "94                     12/08/1990 @11 am [report_end]\\n\n",
              "dtype: object"
            ]
          },
          "metadata": {},
          "execution_count": 43
        }
      ]
    },
    {
      "cell_type": "code",
      "source": [
        "from datetime import datetime\n",
        "\n",
        "def date_sorter2():\n",
        "    \n",
        "    parsed_dates = dict.fromkeys(df.index)\n",
        "    \n",
        "    all_numeric = df[:125]\n",
        "    for (ind, date) in zip(all_numeric.index, all_numeric.str.findall(r\"[\\d]{1,2}[/-]{1}[\\d]{1,2}[/-]{1}[\\d]{2,4}\")):\n",
        "\n",
        "        _date = date[0]\n",
        "\n",
        "        if \"-\" not in _date:\n",
        "            if len(_date.split(\"/\")[2]) < 4:      \n",
        "                _strdate = _date[:-2] + \"19\" + _date[-2:]\n",
        "\n",
        "                parsed_dates[ind] = datetime.strptime(_strdate, \"%m/%d/%Y\")\n",
        "            else:\n",
        "\n",
        "                parsed_dates[ind] = datetime.strptime(_date, \"%m/%d/%Y\")\n",
        "                \n",
        "        elif \"-\" in _date:\n",
        "            if len(_date.split(\"-\")[2]) < 4:\n",
        "                _strdate = _date[:-2] + \"19\" + _date[-2:]\n",
        "\n",
        "                parsed_dates[ind] = datetime.strptime(_strdate, \"%m-%d-%Y\")\n",
        "            else:\n",
        "\n",
        "                parsed_dates[ind] = datetime.strptime(_date, \"%m-%d-%Y\")\n",
        "    \n",
        "    month_in_words = df[125:194]\n",
        "    for (ind, date) in zip(month_in_words.index, month_in_words.str.findall(r\"[\\d]{1,2} [\\w]{3,} [\\d]{2,4}\")):\n",
        "            # parsed_dates[ind] = date[0]\n",
        "            _strdate  = date[0]\n",
        "            try:\n",
        "                parsed_dates[ind] = datetime.strptime(_strdate, \"%d %B %Y\")\n",
        "            except ValueError:\n",
        "                try:\n",
        "                    parsed_dates[ind] = datetime.strptime(_strdate, \"%d %b %Y\")\n",
        "                except:\n",
        "                    print(\"FUCK\")\n",
        "                    \n",
        "    start_with_month = df[194:228]\n",
        "    for (ind, date) in zip(start_with_month.index, start_with_month.str.findall(r\"[\\w]{3,}[.,]* [\\d]+[,]* [\\d]{2,4}\")):\n",
        "            # parsed_dates[ind] = date[0]\n",
        "            _strdate = date[0].replace(\",\", \"\").replace(\".\", \"\")\n",
        "            try:\n",
        "                parsed_dates[ind] = datetime.strptime(_strdate, \"%B %d %Y\")\n",
        "            except ValueError:\n",
        "                try:\n",
        "                    parsed_dates[ind] = datetime.strptime(_strdate, \"%b %d %Y\")\n",
        "                except:\n",
        "                    print(\"FUCK\")\n",
        "    \n",
        "    month_and_year_only = df[228:343]\n",
        "    for (ind, date) in zip(month_and_year_only.index, month_and_year_only.str.findall(r\"[A-Z]{1}[a-z]{2,}[,]* [\\d]{4}\")):\n",
        "        # parsed_dates[ind] = \"01 \" + date[0]\n",
        "        _strdate = \"01 \" + date[0].replace(\",\", \"\").replace(\"Janaury\", \"January\").replace(\"Decemeber\", \"December\")\n",
        "        try:\n",
        "            parsed_dates[ind] = datetime.strptime(_strdate, \"%d %B %Y\")\n",
        "        except ValueError:\n",
        "            try:\n",
        "                parsed_dates[ind] = datetime.strptime(_strdate, \"%d %b %Y\")\n",
        "            except:\n",
        "                print(\"FUCK\", _strdate)\n",
        "    \n",
        "    month_and_year_numeric = df[343:455]\n",
        "    for (ind, date) in zip(month_and_year_numeric.index, month_and_year_numeric.str.findall(r\"[\\d]{1,2}/[\\d]{2,4}\")):\n",
        "        # parsed_dates[ind] = \"01/\" + date[0]\n",
        "        _strdate = \"01/\" + date[0]\n",
        "        parsed_dates[ind] = datetime.strptime(_strdate, \"%d/%m/%Y\")\n",
        "        \n",
        "    year_only = df[455:]\n",
        "    for (ind, date) in zip(year_only.index, year_only.str.findall(r\"[\\d]{4}\")):\n",
        "        # parsed_dates[ind] =  \"01/01/\" + date[0]\n",
        "        _strdate = \"01/01/\" + date[0]\n",
        "        parsed_dates[ind] = datetime.strptime(_strdate, \"%d/%m/%Y\")\n",
        "        \n",
        "    dates = pd.Series(parsed_dates, name = \"date\")\n",
        "    return pd.Series(dates.reset_index(drop = False).sort_values([\"date\", \"index\"]).index)"
      ],
      "metadata": {
        "id": "bDiy_9bLaGya"
      },
      "execution_count": 22,
      "outputs": []
    },
    {
      "cell_type": "code",
      "source": [
        "%%time \n",
        "date_sorter2()"
      ],
      "metadata": {
        "colab": {
          "base_uri": "https://localhost:8080/"
        },
        "id": "BnLSfnDBlOqI",
        "outputId": "80471092-179e-474d-843d-84c177f7d852"
      },
      "execution_count": 23,
      "outputs": [
        {
          "output_type": "stream",
          "name": "stdout",
          "text": [
            "CPU times: user 19.6 ms, sys: 0 ns, total: 19.6 ms\n",
            "Wall time: 19.6 ms\n"
          ]
        },
        {
          "output_type": "execute_result",
          "data": {
            "text/plain": [
              "0        9\n",
              "1       84\n",
              "2        2\n",
              "3       53\n",
              "4       28\n",
              "      ... \n",
              "495    427\n",
              "496    141\n",
              "497    186\n",
              "498    161\n",
              "499    413\n",
              "Length: 500, dtype: int64"
            ]
          },
          "metadata": {},
          "execution_count": 23
        }
      ]
    },
    {
      "cell_type": "code",
      "source": [
        "df[date_sorter2() != date_sorter1()]"
      ],
      "metadata": {
        "colab": {
          "base_uri": "https://localhost:8080/"
        },
        "id": "oELhS9HylUaJ",
        "outputId": "e580bbb4-2788-4853-9fab-c168a010e2a4"
      },
      "execution_count": 33,
      "outputs": [
        {
          "output_type": "execute_result",
          "data": {
            "text/plain": [
              "81    . Wile taking additional history, pt endorsed ...\n",
              "82    Death of mother; 7/07/1974 Meaningful activiti...\n",
              "83    09/14/2000 CPT Code: 90792: With medical servi...\n",
              "84          5/18/71 Total time of visit (in minutes):\\n\n",
              "85    8/09/1981 Communication with referring physici...\n",
              "86       6/05/93 CPT Code: 90791: No medical services\\n\n",
              "87    )Dilantin (PHENYTOIN) 100 MG CAPSULE Take 2 Ca...\n",
              "88            12/8/82 Audit C=3Audit C Score Current:\\n\n",
              "89       8/26/89 CPT Code: 90791: No medical services\\n\n",
              "90      10/13/95 CPT Code: 90791: No medical services\\n\n",
              "91    4/19/91 Communication with referring physician...\n",
              "92    .APS - Psychiatry consult paged/requested in p...\n",
              "93    9/20/76 CPT Code: 90801 - Psychiatric Diagnosi...\n",
              "94                     12/08/1990 @11 am [report_end]\\n\n",
              "dtype: object"
            ]
          },
          "metadata": {},
          "execution_count": 33
        }
      ]
    },
    {
      "cell_type": "code",
      "source": [],
      "metadata": {
        "id": "iU6hMt8eliZH"
      },
      "execution_count": null,
      "outputs": []
    }
  ],
  "metadata": {
    "coursera": {
      "course_slug": "python-text-mining",
      "graded_item_id": "LvcWI",
      "launcher_item_id": "krne9",
      "part_id": "Mkp1I"
    },
    "kernelspec": {
      "display_name": "Python 3",
      "language": "python",
      "name": "python3"
    },
    "language_info": {
      "codemirror_mode": {
        "name": "ipython",
        "version": 3
      },
      "file_extension": ".py",
      "mimetype": "text/x-python",
      "name": "python",
      "nbconvert_exporter": "python",
      "pygments_lexer": "ipython3",
      "version": "3.6.0"
    },
    "colab": {
      "provenance": [],
      "include_colab_link": true
    }
  },
  "nbformat": 4,
  "nbformat_minor": 0
}